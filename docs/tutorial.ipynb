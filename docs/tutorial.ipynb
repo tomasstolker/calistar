{
 "cells": [
  {
   "cell_type": "markdown",
   "id": "7eed1901",
   "metadata": {},
   "source": [
    "# Tutorial"
   ]
  },
  {
   "cell_type": "markdown",
   "id": "09b2a5cd",
   "metadata": {},
   "source": [
    "We start importing the `CaliStar` class from the `calistar` package."
   ]
  },
  {
   "cell_type": "code",
   "execution_count": 1,
   "id": "eb1e16e4",
   "metadata": {},
   "outputs": [],
   "source": [
    "from calistar import CaliStar"
   ]
  },
  {
   "cell_type": "markdown",
   "id": "f9864c75",
   "metadata": {},
   "source": [
    "Next, we create an instance of the [CaliStar](https://calistar.readthedocs.io/en/latest/calistar.html#calistar.calistar.CaliStar) class by providing Gaia source ID of the target star and the (optional) Gaia data release that should be used. In this example, we will use the star HD 206893. The Gaia DR3 source ID of the star is easily found on [Simbad](https://simbad.u-strasbg.fr/simbad/sim-basic?Ident=HD206893)."
   ]
  },
  {
   "cell_type": "code",
   "execution_count": 2,
   "id": "36c9d6ce",
   "metadata": {},
   "outputs": [
    {
     "name": "stdout",
     "output_type": "stream",
     "text": [
      "===============\n"
     ]
    },
    {
     "data": {
      "text/html": [
       "<pre style=\"white-space:pre;overflow-x:auto;line-height:normal;font-family:Menlo,'DejaVu Sans Mono',consolas,'Courier New',monospace\"><span style=\"color: #800080; text-decoration-color: #800080; font-weight: bold\">calistar v0.</span><span style=\"color: #800080; text-decoration-color: #800080; font-weight: bold\">0.5</span>\n",
       "</pre>\n"
      ],
      "text/plain": [
       "\u001b[1;35mcalistar v0.\u001b[0m\u001b[1;35m0.5\u001b[0m\n"
      ]
     },
     "metadata": {},
     "output_type": "display_data"
    },
    {
     "name": "stdout",
     "output_type": "stream",
     "text": [
      "===============\n"
     ]
    }
   ],
   "source": [
    "cal_star = CaliStar(gaia_source=6843672087120107264, gaia_release=\"DR3\")"
   ]
  },
  {
   "cell_type": "code",
   "execution_count": 3,
   "id": "d0e091f5",
   "metadata": {},
   "outputs": [
    {
     "name": "stdout",
     "output_type": "stream",
     "text": [
      "\n",
      "-> Querying GAIA DR3...\n",
      "\n",
      "INFO: Query finished. [astroquery.utils.tap.core]\n",
      "\n",
      "G mag = 6.585952 +/- 0.002761\n",
      "BP mag = 6.798026 +/- 0.002837\n",
      "RP mag = 6.213689 +/- 0.003815\n",
      "GRVS mag = 6.067284 +/- 0.004563\n",
      "\n",
      "GAIA DR3 source ID = 6843672087120107264\n",
      "Reference epoch = 2016.0\n",
      "Parallax = 24.53 +/- 0.04 mas\n",
      "\n",
      "RA = 326.341701 deg +/- 0.0268 mas\n",
      "Dec = -12.783352 deg +/- 0.0226 mas\n",
      "Coordinates = +21h45m22.01s -12d47m00.07s\n",
      "\n",
      "Proper motion RA = 94.11 +/- 0.04 mas/yr\n",
      "Proper motion Dec = -0.46 +/- 0.03 mas/yr\n",
      "Radial velocity = -11.80 +/- 0.14 km/s\n",
      "\n",
      "Effective temperature = 6448 K\n",
      "Surface gravity = 4.13\n",
      "Metallicity = -0.82\n",
      "G-band extinction = 0.00\n",
      "\n",
      "Astrometric excess noise = 0.17\n",
      "RUWE = 1.12\n",
      "Non single star = 0\n",
      "Single star probability from DSC-Combmod = 0.99\n",
      "\n",
      "XP continuous = True\n",
      "XP sampled = True\n",
      "RVS spectrum = False\n",
      "\n",
      "-> Querying Simbad...\n",
      "\n",
      "Simbad ID = HD 206893\n",
      "Spectral type = F5V\n",
      "\n",
      "-> Querying VizieR...\n",
      "\n",
      "TYCHO source ID = 5796-1161-1\n",
      "Separation between Gaia and TYCHO source = 13.2 mas\n",
      "\n",
      "TYCHO BT mag = 7.192 +/- 0.016\n",
      "TYCHO VT mag = 6.726 +/- 0.011\n",
      "\n",
      "2MASS source ID = 21452190-1246599\n",
      "Separation between Gaia and 2MASS source = 1.4 mas\n",
      "\n",
      "2MASS J mag = 5.869 +/- 0.023\n",
      "2MASS H mag = 5.687 +/- 0.034\n",
      "2MASS Ks mag = 5.593 +/- 0.021\n",
      "\n",
      "ALLWISE source ID = J214521.98-124659.9\n",
      "Separation between Gaia and WISE source = 18.9 mas\n",
      "\n",
      "WISE W1 mag = 5.573 +/- 0.176\n",
      "WISE W2 mag = 5.452 +/- 0.052\n",
      "WISE W3 mag = 5.629 +/- 0.015\n",
      "WISE W4 mag = 5.481 +/- 0.043\n",
      "\n",
      "-> Querying Washington Double Star catalog...\n",
      "\n",
      "Target not found in WDS catalog\n",
      "\n",
      "Storing JSON output: target_dr3_6843672087120107264.json\n"
     ]
    }
   ],
   "source": [
    "target_prop = cal_star.target_star(write_json=True, get_gaiaxp=False)"
   ]
  },
  {
   "cell_type": "code",
   "execution_count": 4,
   "id": "c891ca25",
   "metadata": {},
   "outputs": [
    {
     "name": "stdout",
     "output_type": "stream",
     "text": [
      "{'Gaia ID': 6843672087120107264, 'Gaia release': 'DR3', 'Gaia epoch': 2016.0, 'Gaia RA': (326.3417007918157, 6.28893832779593e-06), 'Gaia Dec': (-12.783352283336647, 6.28893832779593e-06), 'Gaia pm RA': (94.11170797027064, 0.03547043353319168), 'Gaia pm Dec': (-0.4633855782241898, 0.025660403072834015), 'Gaia parallax': (24.527534260182925, 0.03544711321592331), 'GAIA/GAIA3.G': (6.585951805114746, 0.002761077445367911), 'GAIA/GAIA3.Gbp': (6.798026084899902, 0.0028371437114444007), 'GAIA/GAIA3.Grp': (6.21368932723999, 0.0038149464919949023), 'GAIA/GAIA3.Grvs': (6.067283630371094, 0.004563245456665754), 'teff': 6448.2138671875, 'log(g)': 4.128300189971924, 'metallicity': -0.8172000050544739, 'ag_ext': 0.0, 'Simbad ID': 'HD 206893', 'SpT': 'F5V', 'TYCHO/TYCHO.B': (7.191999912261963, 0.01600000075995922), 'TYCHO/TYCHO.V': (6.72599983215332, 0.010999999940395355), '2MASS/2MASS.J': (5.86899995803833, 0.023000000044703484), '2MASS/2MASS.H': (5.686999797821045, 0.03400000184774399), '2MASS/2MASS.Ks': (5.5929999351501465, 0.020999999716877937), 'WISE/WISE.W1': (5.572999954223633, 0.17599999904632568), 'WISE/WISE.W2': (5.452000141143799, 0.052000001072883606), 'WISE/WISE.W3': (5.629000186920166, 0.014999999664723873), 'WISE/WISE.W4': (5.480999946594238, 0.0430000014603138)}\n"
     ]
    }
   ],
   "source": [
    "print(target_prop)"
   ]
  },
  {
   "cell_type": "code",
   "execution_count": 5,
   "id": "938f946b",
   "metadata": {},
   "outputs": [
    {
     "name": "stdout",
     "output_type": "stream",
     "text": [
      "\n",
      "-> Finding calibration stars...\n",
      "\n",
      "Radius of search cone = 3.0 deg\n",
      "G mag search range = (5.59, 8.59)\n"
     ]
    },
    {
     "data": {
      "application/vnd.jupyter.widget-view+json": {
       "model_id": "405551ece43b4d38af236281b22b552c",
       "version_major": 2,
       "version_minor": 0
      },
      "text/plain": [
       "Output()"
      ]
     },
     "metadata": {},
     "output_type": "display_data"
    },
    {
     "name": "stdout",
     "output_type": "stream",
     "text": [
      "INFO: Query finished. [astroquery.utils.tap.core]\n",
      "Number of found sources: 53\n"
     ]
    },
    {
     "data": {
      "text/html": [
       "<pre style=\"white-space:pre;overflow-x:auto;line-height:normal;font-family:Menlo,'DejaVu Sans Mono',consolas,'Courier New',monospace\"></pre>\n"
      ],
      "text/plain": []
     },
     "metadata": {},
     "output_type": "display_data"
    },
    {
     "data": {
      "text/html": [
       "<pre style=\"white-space:pre;overflow-x:auto;line-height:normal;font-family:Menlo,'DejaVu Sans Mono',consolas,'Courier New',monospace\">\n",
       "</pre>\n"
      ],
      "text/plain": [
       "\n"
      ]
     },
     "metadata": {},
     "output_type": "display_data"
    },
    {
     "name": "stdout",
     "output_type": "stream",
     "text": [
      "Storing output: calib_find_dr3_6843672087120107264.csv\n"
     ]
    }
   ],
   "source": [
    "df = cal_star.find_calib(search_radius=3., g_mag_range=(-1.0, 2.0))"
   ]
  },
  {
   "cell_type": "code",
   "execution_count": 6,
   "id": "901bd8fb",
   "metadata": {},
   "outputs": [
    {
     "name": "stdout",
     "output_type": "stream",
     "text": [
      "   Simbad ID              Gaia ID      SpT Separation  \\\n",
      "0  HD 206893  6843672087120107264      F5V        0.0   \n",
      "1  HD 207006  6843703766798867072    G8III   0.293244   \n",
      "2  HD 206942  6843448783180406272  K2/3III   0.566973   \n",
      "3  HD 206878  6843329348729972224    K3III   0.892679   \n",
      "4  HD 207272  6844094574462996608    K5III   0.918348   \n",
      "\n",
      "  Astrometric excess noise RUWE Non single star Single star probability  \\\n",
      "0                 0.174123  NaN             NaN                     NaN   \n",
      "1                 0.115425  NaN             NaN                     NaN   \n",
      "2                 0.126161  NaN             NaN                     NaN   \n",
      "3                 0.127814  NaN             NaN                     NaN   \n",
      "4                 0.134155  NaN             NaN                     NaN   \n",
      "\n",
      "  GAIA/GAIA3.G 2MASS/2MASS.J  ... WISE/WISE.W4            WDS ID WDS epoch 1  \\\n",
      "0     6.585952         5.869  ...        5.481               NaN         NaN   \n",
      "1     7.264789         5.799  ...        5.052               NaN         NaN   \n",
      "2     8.236968         6.228  ...        5.151               NaN         NaN   \n",
      "3     8.125083         6.217  ...        5.239  WDS J21453-1341A        1905   \n",
      "4     8.021875         5.864  ...        4.698               NaN         NaN   \n",
      "\n",
      "  WDS epoch 2           WDS sep 1           WDS sep 2 WDS PA 1 WDS PA 2  \\\n",
      "0         NaN                 NaN                 NaN      NaN      NaN   \n",
      "1         NaN                 NaN                 NaN      NaN      NaN   \n",
      "2         NaN                 NaN                 NaN      NaN      NaN   \n",
      "3        2015  26.799999237060547  27.299999237060547      226      223   \n",
      "4         NaN                 NaN                 NaN      NaN      NaN   \n",
      "\n",
      "           WDS mag 1           WDS mag 2  \n",
      "0                NaN                 NaN  \n",
      "1                NaN                 NaN  \n",
      "2                NaN                 NaN  \n",
      "3  8.739999771118164  11.550000190734863  \n",
      "4                NaN                 NaN  \n",
      "\n",
      "[5 rows x 25 columns]\n"
     ]
    }
   ],
   "source": [
    "print(df.head())"
   ]
  },
  {
   "cell_type": "code",
   "execution_count": 7,
   "id": "e0c75ef0",
   "metadata": {},
   "outputs": [
    {
     "data": {
      "application/vnd.jupyter.widget-view+json": {
       "model_id": "91a3045159934c319cbf9b9375048a9b",
       "version_major": 2,
       "version_minor": 0
      },
      "text/plain": [
       "Output()"
      ]
     },
     "metadata": {},
     "output_type": "display_data"
    },
    {
     "name": "stdout",
     "output_type": "stream",
     "text": [
      "\n",
      "-> Selecting calibration stars...\n",
      "\n"
     ]
    },
    {
     "data": {
      "text/html": [
       "<pre style=\"white-space:pre;overflow-x:auto;line-height:normal;font-family:Menlo,'DejaVu Sans Mono',consolas,'Courier New',monospace\"></pre>\n"
      ],
      "text/plain": []
     },
     "metadata": {},
     "output_type": "display_data"
    },
    {
     "data": {
      "text/html": [
       "<pre style=\"white-space:pre;overflow-x:auto;line-height:normal;font-family:Menlo,'DejaVu Sans Mono',consolas,'Courier New',monospace\">\n",
       "</pre>\n"
      ],
      "text/plain": [
       "\n"
      ]
     },
     "metadata": {},
     "output_type": "display_data"
    },
    {
     "name": "stdout",
     "output_type": "stream",
     "text": [
      "Number of selected sources: 7\n",
      "Storing output: calib_select_dr3_6843672087120107264.csv\n"
     ]
    }
   ],
   "source": [
    "df = cal_star.select_calib(filter_names=[\"2MASS/2MASS.Ks\", \"WISE/WISE.W1\"],\n",
    "                           mag_diff={\"2MASS/2MASS.Ks\": 0.3, \"WISE/WISE.W1\": 0.5})"
   ]
  },
  {
   "cell_type": "code",
   "execution_count": 8,
   "id": "cf1852fe",
   "metadata": {},
   "outputs": [
    {
     "name": "stdout",
     "output_type": "stream",
     "text": [
      "    Simbad ID              Gaia ID      SpT  Separation  \\\n",
      "0   HD 206893  6843672087120107264      F5V    0.000000   \n",
      "3   HD 206878  6843329348729972224    K3III    0.892679   \n",
      "9   HD 207503  6843863127265189760  A1/2III    1.054286   \n",
      "20  HD 205827  6844675872517129728    K1III    1.882230   \n",
      "23  *  45 Cap  6838704699744176768   A7IV/V    1.993162   \n",
      "\n",
      "    Astrometric excess noise  RUWE  Non single star  Single star probability  \\\n",
      "0                   0.174123   NaN              NaN                      NaN   \n",
      "3                   0.127814   NaN              NaN                      NaN   \n",
      "9                   0.366081   NaN              NaN                      NaN   \n",
      "20                  0.136001   NaN              NaN                      NaN   \n",
      "23                  0.232292   NaN              NaN                      NaN   \n",
      "\n",
      "    GAIA/GAIA3.G  2MASS/2MASS.J  ...  WISE/WISE.W4             WDS ID  \\\n",
      "0       6.585952          5.869  ...         5.481                NaN   \n",
      "3       8.125083          6.217  ...         5.239   WDS J21453-1341A   \n",
      "9       6.279203          5.894  ...         5.798                NaN   \n",
      "20      7.779989          6.160  ...         5.338                NaN   \n",
      "23      5.913185          5.565  ...         5.330  WDS J21440-1445AB   \n",
      "\n",
      "    WDS epoch 1  WDS epoch 2  WDS sep 1  WDS sep 2 WDS PA 1  WDS PA 2  \\\n",
      "0           NaN          NaN        NaN        NaN      NaN       NaN   \n",
      "3        1905.0       2015.0  26.799999  27.299999    226.0     223.0   \n",
      "9           NaN          NaN        NaN        NaN      NaN       NaN   \n",
      "20          NaN          NaN        NaN        NaN      NaN       NaN   \n",
      "23       2008.0       2016.0   4.300000   4.200000    229.0     229.0   \n",
      "\n",
      "    WDS mag 1  WDS mag 2  \n",
      "0         NaN        NaN  \n",
      "3        8.74      11.55  \n",
      "9         NaN        NaN  \n",
      "20        NaN        NaN  \n",
      "23       5.41       9.50  \n",
      "\n",
      "[5 rows x 25 columns]\n"
     ]
    }
   ],
   "source": [
    "print(df.head())"
   ]
  }
 ],
 "metadata": {
  "kernelspec": {
   "display_name": "Python 3 (ipykernel)",
   "language": "python",
   "name": "python3"
  },
  "language_info": {
   "codemirror_mode": {
    "name": "ipython",
    "version": 3
   },
   "file_extension": ".py",
   "mimetype": "text/x-python",
   "name": "python",
   "nbconvert_exporter": "python",
   "pygments_lexer": "ipython3",
   "version": "3.11.5"
  }
 },
 "nbformat": 4,
 "nbformat_minor": 5
}
