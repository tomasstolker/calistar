{
 "cells": [
  {
   "cell_type": "markdown",
   "id": "7eed1901",
   "metadata": {},
   "source": [
    "# Tutorial"
   ]
  },
  {
   "cell_type": "markdown",
   "id": "09b2a5cd",
   "metadata": {},
   "source": [
    "We start by first importing the `CaliStar` class from the `calistar` package."
   ]
  },
  {
   "cell_type": "code",
   "execution_count": 1,
   "id": "eb1e16e4",
   "metadata": {},
   "outputs": [],
   "source": [
    "from calistar import CaliStar"
   ]
  },
  {
   "cell_type": "markdown",
   "id": "f9864c75",
   "metadata": {},
   "source": [
    "Next, we create an instance of `CaliStar` by providing as argument of `gaia_source` the Gaia DR3 source ID of a star. In this example, we will use the star HD 206893 and lookup the source ID on [Simbad](https://simbad.u-strasbg.fr/simbad/sim-basic?Ident=HD206893)."
   ]
  },
  {
   "cell_type": "code",
   "execution_count": 2,
   "id": "36c9d6ce",
   "metadata": {},
   "outputs": [
    {
     "name": "stdout",
     "output_type": "stream",
     "text": [
      "===============\n"
     ]
    },
    {
     "data": {
      "text/html": [
       "<pre style=\"white-space:pre;overflow-x:auto;line-height:normal;font-family:Menlo,'DejaVu Sans Mono',consolas,'Courier New',monospace\"><span style=\"color: #800080; text-decoration-color: #800080; font-weight: bold\">calistar v0.</span><span style=\"color: #800080; text-decoration-color: #800080; font-weight: bold\">0.1</span>\n",
       "</pre>\n"
      ],
      "text/plain": [
       "\u001b[1;35mcalistar v0.\u001b[0m\u001b[1;35m0.1\u001b[0m\n"
      ]
     },
     "metadata": {},
     "output_type": "display_data"
    },
    {
     "name": "stdout",
     "output_type": "stream",
     "text": [
      "===============\n"
     ]
    }
   ],
   "source": [
    "cal_star = CaliStar(gaia_source=6843672087120107264)"
   ]
  },
  {
   "cell_type": "markdown",
   "id": "656a0c1f",
   "metadata": {},
   "source": [
    "Next, we run the required methods of `CaliStar`."
   ]
  },
  {
   "cell_type": "code",
   "execution_count": 3,
   "id": "d0e091f5",
   "metadata": {},
   "outputs": [
    {
     "name": "stdout",
     "output_type": "stream",
     "text": [
      "\n",
      "-> Querying GAIA DR3...\n",
      "\n",
      "INFO: Query finished. [astroquery.utils.tap.core]\n",
      "\n",
      "GAIA DR3 source ID = 6843672087120107264\n",
      "Reference epoch = 2016.0\n",
      "Parallax = 24.53 +/- 0.04 mas\n",
      "\n",
      "RA = 326.341701 deg\n",
      "Dec = -12.783352 deg\n",
      "Coordinates = +21h45m22.01s -12d47m00.07s\n",
      "\n",
      "Proper motion RA = 94.11 +/- 0.04 mas/yr\n",
      "Proper motion Dec = -0.46 +/- 0.03 mas/yr\n",
      "Radial velocity = -11.80 +/- 0.14 km/s\n",
      "\n",
      "G mean mag = 6.585952\n",
      "BP mean mag = 6.798026\n",
      "RP mean mag = 6.213689\n",
      "\n",
      "Effective temperature = 6448 K\n",
      "Surface gravity = 4.13\n",
      "Metallicity = -0.82\n",
      "G-band extinction = 0.00\n",
      "\n",
      "Non single star = False\n",
      "Single star probability from DSC-Combmod = 0.99\n",
      "Astrometric excess noise = 0.17\n",
      "\n",
      "XP continuous = True\n",
      "XP sampled = True\n",
      "RVS spectrum = False\n",
      "\n",
      "-> Querying Simbad...\n",
      "\n",
      "Simbad ID = HD 206893\n",
      "Spectral type = F5V\n",
      "\n",
      "2MASS J mag = 5.869 +/- 0.023\n",
      "2MASS H mag = 5.687 +/- 0.034\n",
      "2MASS Ks mag = 5.593 +/- 0.021\n",
      "\n",
      "-> Querying VizieR...\n",
      "\n",
      "ALLWISE source ID = J214521.98-124659.9\n",
      "Separation between Gaia and ALLWISE source = 18.9 mas\n",
      "\n",
      "WISE W1 mag = 5.573 +/- 0.176\n",
      "WISE W2 mag = 5.452 +/- 0.052\n",
      "WISE W3 mag = 5.629 +/- 0.015\n",
      "WISE W4 mag = 5.481 +/- 0.043\n"
     ]
    }
   ],
   "source": [
    "target_prop = cal_star.target_star()"
   ]
  },
  {
   "cell_type": "code",
   "execution_count": 4,
   "id": "c891ca25",
   "metadata": {},
   "outputs": [
    {
     "name": "stdout",
     "output_type": "stream",
     "text": [
      "{'Gaia RA': 326.3417007918157, 'Gaia Dec': -12.783352283336647, 'Gaia G mag': 6.585951805114746, 'Simbad ID': 'HD 206893', 'SpT': 'F5V', '2MASS J': 5.86899995803833, '2MASS H': 5.686999797821045, '2MASS Ks': 5.5929999351501465, 'WISE W1': 5.572999954223633, 'WISE W2': 5.452000141143799, 'WISE W3': 5.629000186920166, 'WISE W4': 5.480999946594238}\n"
     ]
    }
   ],
   "source": [
    "print(target_prop)"
   ]
  },
  {
   "cell_type": "code",
   "execution_count": 5,
   "id": "938f946b",
   "metadata": {},
   "outputs": [
    {
     "name": "stdout",
     "output_type": "stream",
     "text": [
      "\n",
      "-> Gaia cone search\n",
      "\n",
      "\n",
      "Radius of search cone = 5.0 deg\n",
      "\n",
      "-> Querying GAIA DR3...\n",
      "\n"
     ]
    },
    {
     "data": {
      "application/vnd.jupyter.widget-view+json": {
       "model_id": "a7b5b5588a644eb5bf976e8f89c80b9d",
       "version_major": 2,
       "version_minor": 0
      },
      "text/plain": [
       "Output()"
      ]
     },
     "metadata": {},
     "output_type": "display_data"
    },
    {
     "name": "stdout",
     "output_type": "stream",
     "text": [
      "INFO: Query finished. [astroquery.utils.tap.core]\n",
      "Found 59 object(s) with cone search\n",
      "\n",
      "-> Finding calibration stars...\n",
      "\n"
     ]
    },
    {
     "data": {
      "text/html": [
       "<pre style=\"white-space:pre;overflow-x:auto;line-height:normal;font-family:Menlo,'DejaVu Sans Mono',consolas,'Courier New',monospace\"></pre>\n"
      ],
      "text/plain": []
     },
     "metadata": {},
     "output_type": "display_data"
    },
    {
     "data": {
      "text/html": [
       "<pre style=\"white-space:pre;overflow-x:auto;line-height:normal;font-family:Menlo,'DejaVu Sans Mono',consolas,'Courier New',monospace\">\n",
       "</pre>\n"
      ],
      "text/plain": [
       "\n"
      ]
     },
     "metadata": {},
     "output_type": "display_data"
    },
    {
     "name": "stdout",
     "output_type": "stream",
     "text": [
      "\n",
      "Storing output: calib_find_6843672087120107264.csv\n"
     ]
    }
   ],
   "source": [
    "df = cal_star.find_calib(search_radius=5.)"
   ]
  },
  {
   "cell_type": "code",
   "execution_count": 6,
   "id": "901bd8fb",
   "metadata": {},
   "outputs": [
    {
     "name": "stdout",
     "output_type": "stream",
     "text": [
      "               Gaia ID    GAIA G   GAIA BP   GAIA RP 2MASS J 2MASS H 2MASS Ks  \\\n",
      "0  6843672087120107264  6.585952  6.798026  6.213689   5.869   5.687    5.593   \n",
      "1  6843703766798867072  7.264789   7.77279  6.595277   5.799   5.317    5.117   \n",
      "2  6843863127265189760  6.279203  6.370432  6.091364   5.894   5.853    5.794   \n",
      "3  6844193324351118336  6.898117  7.112482  6.524837   6.152   5.979    5.928   \n",
      "4  6841731655255386240  5.825697  5.950932  5.582501   5.405   5.238    5.201   \n",
      "\n",
      "  WISE W1 WISE W2 WISE W3 WISE W4 Non single star Single star probability  \\\n",
      "0   5.573   5.452   5.629   5.481               0                0.992999   \n",
      "1   5.152   4.936   5.048   5.052               0                0.999932   \n",
      "2   5.814   5.735   5.829   5.798               0                0.000001   \n",
      "3   5.888   5.841   5.934   5.927               0                0.992964   \n",
      "4   5.191   5.019   5.216   5.139               0                0.998862   \n",
      "\n",
      "  Astrometric excess noise  \n",
      "0                 0.174123  \n",
      "1                 0.115425  \n",
      "2                 0.366081  \n",
      "3                 0.124047  \n",
      "4                 0.264402  \n"
     ]
    }
   ],
   "source": [
    "print(df.head())"
   ]
  },
  {
   "cell_type": "code",
   "execution_count": 7,
   "id": "e0c75ef0",
   "metadata": {},
   "outputs": [
    {
     "data": {
      "application/vnd.jupyter.widget-view+json": {
       "model_id": "c7c15c67433d4af4886d2b623c6244ae",
       "version_major": 2,
       "version_minor": 0
      },
      "text/plain": [
       "Output()"
      ]
     },
     "metadata": {},
     "output_type": "display_data"
    },
    {
     "name": "stdout",
     "output_type": "stream",
     "text": [
      "\n",
      "-> Selecting calibration stars...\n",
      "\n"
     ]
    },
    {
     "data": {
      "text/html": [
       "<pre style=\"white-space:pre;overflow-x:auto;line-height:normal;font-family:Menlo,'DejaVu Sans Mono',consolas,'Courier New',monospace\"></pre>\n"
      ],
      "text/plain": []
     },
     "metadata": {},
     "output_type": "display_data"
    },
    {
     "data": {
      "text/html": [
       "<pre style=\"white-space:pre;overflow-x:auto;line-height:normal;font-family:Menlo,'DejaVu Sans Mono',consolas,'Courier New',monospace\">\n",
       "</pre>\n"
      ],
      "text/plain": [
       "\n"
      ]
     },
     "metadata": {},
     "output_type": "display_data"
    },
    {
     "name": "stdout",
     "output_type": "stream",
     "text": [
      "\n",
      "Storing output: calib_select_6843672087120107264.csv\n"
     ]
    }
   ],
   "source": [
    "df = cal_star.select_calib(filter_names=[\"2MASS Ks\", \"WISE W1\"], mag_diff=0.1)"
   ]
  },
  {
   "cell_type": "code",
   "execution_count": 8,
   "id": "cf1852fe",
   "metadata": {},
   "outputs": [
    {
     "name": "stdout",
     "output_type": "stream",
     "text": [
      "                Gaia ID    GAIA G   GAIA BP   GAIA RP  2MASS J  2MASS H  \\\n",
      "0   6843672087120107264  6.585952  6.798026  6.213689    5.869    5.687   \n",
      "20  6840872971033892608  7.015011  7.324236  6.530556    6.028    5.715   \n",
      "31  6893782982391182848  7.429806  7.871097  6.816071    6.069    5.644   \n",
      "\n",
      "    2MASS Ks  WISE W1  WISE W2  WISE W3  WISE W4  Non single star  \\\n",
      "0      5.593    5.573    5.452    5.629    5.481                0   \n",
      "20     5.661    5.661    5.559    5.665    5.606                0   \n",
      "31     5.517    5.498    5.390    5.504    5.400                0   \n",
      "\n",
      "    Single star probability  Astrometric excess noise  \n",
      "0                  0.992999                  0.174123  \n",
      "20                 0.997667                  0.108770  \n",
      "31                 0.999591                  0.127277  \n"
     ]
    }
   ],
   "source": [
    "print(df.head())"
   ]
  }
 ],
 "metadata": {
  "kernelspec": {
   "display_name": "Python 3 (ipykernel)",
   "language": "python",
   "name": "python3"
  },
  "language_info": {
   "codemirror_mode": {
    "name": "ipython",
    "version": 3
   },
   "file_extension": ".py",
   "mimetype": "text/x-python",
   "name": "python",
   "nbconvert_exporter": "python",
   "pygments_lexer": "ipython3",
   "version": "3.11.5"
  }
 },
 "nbformat": 4,
 "nbformat_minor": 5
}
